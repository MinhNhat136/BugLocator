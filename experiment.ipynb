{
 "cells": [
  {
   "cell_type": "markdown",
   "id": "2d78a8b75eaea1f5",
   "metadata": {},
   "source": [
    "## PREPROCESSING DATA"
   ]
  },
  {
   "cell_type": "code",
   "id": "initial_id",
   "metadata": {
    "ExecuteTime": {
     "end_time": "2025-04-05T17:46:44.970642Z",
     "start_time": "2025-04-05T17:46:44.414500Z"
    }
   },
   "source": [
    "from preprocessing import Parser, ReportPreprocessor, SrcPreprocessor\n",
    "from datasets import DATASET\n",
    "\n",
    "from collections import defaultdict"
   ],
   "outputs": [],
   "execution_count": 1
  },
  {
   "cell_type": "code",
   "id": "340c1372-80a5-4286-b398-6300e04e7e6d",
   "metadata": {
    "ExecuteTime": {
     "end_time": "2025-04-05T17:46:45.654403Z",
     "start_time": "2025-04-05T17:46:44.983666Z"
    }
   },
   "source": [
    "import nltk\n",
    "nltk.download('punkt_tab')\n",
    "nltk.download('averaged_perceptron_tagger_eng')"
   ],
   "outputs": [
    {
     "name": "stderr",
     "output_type": "stream",
     "text": [
      "[nltk_data] Downloading package punkt_tab to\n",
      "[nltk_data]     C:\\Users\\nhatm\\AppData\\Roaming\\nltk_data...\n",
      "[nltk_data]   Package punkt_tab is already up-to-date!\n",
      "[nltk_data] Downloading package averaged_perceptron_tagger_eng to\n",
      "[nltk_data]     C:\\Users\\nhatm\\AppData\\Roaming\\nltk_data...\n",
      "[nltk_data]   Package averaged_perceptron_tagger_eng is already up-to-\n",
      "[nltk_data]       date!\n"
     ]
    },
    {
     "data": {
      "text/plain": [
       "True"
      ]
     },
     "execution_count": 2,
     "metadata": {},
     "output_type": "execute_result"
    }
   ],
   "execution_count": 2
  },
  {
   "cell_type": "code",
   "id": "017deb6b-c635-4cf6-a8b3-bbc1c77feb6e",
   "metadata": {
    "ExecuteTime": {
     "end_time": "2025-04-05T16:33:03.281560Z",
     "start_time": "2025-04-05T16:32:48.271254Z"
    }
   },
   "source": [
    "parser = Parser(DATASET)\n",
    "bug_reports = parser.report_parser()\n",
    "src_files = parser.src_parser()"
   ],
   "outputs": [],
   "execution_count": 3
  },
  {
   "cell_type": "code",
   "id": "fc558011-058c-4662-8f18-f1895bfe0390",
   "metadata": {
    "ExecuteTime": {
     "end_time": "2025-04-05T16:33:49.102628Z",
     "start_time": "2025-04-05T16:33:03.925307Z"
    }
   },
   "source": [
    "src_processor = SrcPreprocessor(src_files, parser.name).preprocess()\n",
    "report_processor = ReportPreprocessor(bug_reports, parser.name).preprocess()"
   ],
   "outputs": [],
   "execution_count": 4
  },
  {
   "cell_type": "markdown",
   "id": "fdcd0c9ad3294b33",
   "metadata": {},
   "source": [
    "## INDEXING SOURCE CODE FILES\n"
   ]
  },
  {
   "cell_type": "code",
   "id": "ff7344416bf756c0",
   "metadata": {
    "ExecuteTime": {
     "end_time": "2025-04-05T17:46:45.945702Z",
     "start_time": "2025-04-05T17:46:45.696890Z"
    }
   },
   "source": [
    "import pandas as pd\n",
    "import ast"
   ],
   "outputs": [],
   "execution_count": 3
  },
  {
   "cell_type": "code",
   "id": "be114cc0a930d52d",
   "metadata": {
    "ExecuteTime": {
     "end_time": "2025-04-05T17:46:52.017790Z",
     "start_time": "2025-04-05T17:46:51.807632Z"
    }
   },
   "source": [
    "file_path = \"outputs/tomcat_source_code_data.csv\"\n",
    "src_df = pd.read_csv(file_path)"
   ],
   "outputs": [],
   "execution_count": 6
  },
  {
   "cell_type": "code",
   "id": "289d819f926efbd7",
   "metadata": {
    "ExecuteTime": {
     "end_time": "2025-04-05T17:46:45.954290Z",
     "start_time": "2025-04-05T17:46:45.951214Z"
    }
   },
   "source": [
    "def build_inverted_index(documents):\n",
    "    inverted_index = defaultdict(set)\n",
    "    for key, contents in documents:\n",
    "        for content in contents:\n",
    "            inverted_index[content].add(key)\n",
    "    return inverted_index"
   ],
   "outputs": [],
   "execution_count": 4
  },
  {
   "cell_type": "code",
   "id": "217e5c8aa5b9e67f",
   "metadata": {
    "ExecuteTime": {
     "end_time": "2025-04-05T17:46:55.493068Z",
     "start_time": "2025-04-05T17:46:53.088847Z"
    }
   },
   "source": [
    "src_df['all_content'] = src_df['all_content'].apply(ast.literal_eval)\n",
    "src_df['all_content'] = src_df['all_content'].apply(lambda x: x['stemmed'])"
   ],
   "outputs": [],
   "execution_count": 7
  },
  {
   "cell_type": "code",
   "id": "6a6aa6aeba30bbf8",
   "metadata": {
    "ExecuteTime": {
     "end_time": "2025-04-05T17:46:55.502328Z",
     "start_time": "2025-04-05T17:46:55.497029Z"
    }
   },
   "source": [
    "data_src_codes_content = src_df[['key', 'all_content']].values\n",
    "data_src_codes_size = src_df[['key', 'total_lines']].values.tolist()"
   ],
   "outputs": [],
   "execution_count": 8
  },
  {
   "cell_type": "code",
   "id": "a5fedf8af413d658",
   "metadata": {
    "ExecuteTime": {
     "end_time": "2025-04-05T17:46:56.630464Z",
     "start_time": "2025-04-05T17:46:56.533463Z"
    }
   },
   "source": [
    "inverted_index_source_codes = build_inverted_index(data_src_codes_content)"
   ],
   "outputs": [],
   "execution_count": 9
  },
  {
   "metadata": {
    "ExecuteTime": {
     "end_time": "2025-04-05T17:46:57.481878Z",
     "start_time": "2025-04-05T17:46:57.478265Z"
    }
   },
   "cell_type": "code",
   "source": "len(inverted_index_source_codes)",
   "id": "802e457d7308537b",
   "outputs": [
    {
     "data": {
      "text/plain": [
       "23097"
      ]
     },
     "execution_count": 10,
     "metadata": {},
     "output_type": "execute_result"
    }
   ],
   "execution_count": 10
  },
  {
   "cell_type": "markdown",
   "id": "29a078b9603f82dc",
   "metadata": {},
   "source": [
    "## BUILD VSM"
   ]
  },
  {
   "cell_type": "code",
   "id": "ae7e9d6e0c7047d4",
   "metadata": {
    "ExecuteTime": {
     "end_time": "2025-04-05T17:46:59.525355Z",
     "start_time": "2025-04-05T17:46:59.521654Z"
    }
   },
   "source": [
    "import math"
   ],
   "outputs": [],
   "execution_count": 11
  },
  {
   "cell_type": "code",
   "id": "322f41dfda205c5a",
   "metadata": {
    "ExecuteTime": {
     "end_time": "2025-04-05T17:47:10.887722Z",
     "start_time": "2025-04-05T17:47:10.883322Z"
    }
   },
   "source": [
    "def compute_ltc(documents, inverted_index):\n",
    "    tf_idf = defaultdict(lambda: defaultdict(float))\n",
    "    total_documents = len(documents)\n",
    "\n",
    "    for key, contents in documents:\n",
    "        content_frequency = defaultdict(int)\n",
    "        for content in contents:\n",
    "            content_frequency[content] += 1\n",
    "\n",
    "        for content, count in content_frequency.items():\n",
    "            tf = 1 + math.log(count, 10)\n",
    "            df = len(inverted_index.get(content, []))\n",
    "            idf = math.log(total_documents / df, 10)\n",
    "\n",
    "            tf_idf[key][content] = tf * idf\n",
    "\n",
    "    for doc_id in tf_idf:\n",
    "        norm = math.sqrt(sum(weight ** 2 for weight in tf_idf[doc_id].values()))\n",
    "        if norm > 0:\n",
    "            for content in tf_idf[doc_id]:\n",
    "                tf_idf[doc_id][content] /= norm\n",
    "\n",
    "    return tf_idf"
   ],
   "outputs": [],
   "execution_count": 12
  },
  {
   "cell_type": "code",
   "id": "caefb66e5980cba1",
   "metadata": {
    "ExecuteTime": {
     "end_time": "2025-04-05T17:47:12.557608Z",
     "start_time": "2025-04-05T17:47:12.374328Z"
    }
   },
   "source": [
    "vsm = compute_ltc(data_src_codes_content, inverted_index_source_codes)"
   ],
   "outputs": [],
   "execution_count": 13
  },
  {
   "metadata": {
    "ExecuteTime": {
     "end_time": "2025-04-05T17:47:13.137272Z",
     "start_time": "2025-04-05T17:47:13.133515Z"
    }
   },
   "cell_type": "code",
   "source": "len(data_src_codes_content)",
   "id": "d77721c025b4077",
   "outputs": [
    {
     "data": {
      "text/plain": [
       "1794"
      ]
     },
     "execution_count": 14,
     "metadata": {},
     "output_type": "execute_result"
    }
   ],
   "execution_count": 14
  },
  {
   "cell_type": "markdown",
   "id": "6bd66b7a09944bd2",
   "metadata": {},
   "source": [
    "## CALCULATE COEFFICIENT FILE SIZE"
   ]
  },
  {
   "cell_type": "code",
   "id": "33c4ab2316be5028",
   "metadata": {
    "ExecuteTime": {
     "end_time": "2025-04-05T17:47:14.712967Z",
     "start_time": "2025-04-05T17:47:14.707922Z"
    }
   },
   "source": [
    "max_size = 0\n",
    "min_size = math.inf\n",
    "for data_size in data_src_codes_size:\n",
    "    if data_size[1] > max_size:\n",
    "        max_size = data_size[1]\n",
    "    if data_size[1] < min_size:\n",
    "        min_size = data_size[1]"
   ],
   "outputs": [],
   "execution_count": 15
  },
  {
   "cell_type": "code",
   "id": "a3a53ec93e31827",
   "metadata": {
    "ExecuteTime": {
     "end_time": "2025-04-05T17:47:15.618985Z",
     "start_time": "2025-04-05T17:47:15.616391Z"
    }
   },
   "source": [
    "def calculate_coefficient_size(size):\n",
    "    value_standardization = (size - min_size) / (max_size - min_size)\n",
    "    return 1/(1 + math.exp(-value_standardization))"
   ],
   "outputs": [],
   "execution_count": 16
  },
  {
   "cell_type": "code",
   "id": "a6ed40ec4a52899a",
   "metadata": {
    "ExecuteTime": {
     "end_time": "2025-04-05T17:47:17.124661Z",
     "start_time": "2025-04-05T17:47:17.120842Z"
    }
   },
   "source": [
    "coefficient_size = defaultdict(float)\n",
    "for data_size in data_src_codes_size:\n",
    "    coefficient_size[data_size[0]] = calculate_coefficient_size(data_size[1])"
   ],
   "outputs": [],
   "execution_count": 17
  },
  {
   "cell_type": "markdown",
   "id": "27ec623e3368f0d",
   "metadata": {},
   "source": [
    "## HANDLE REPORT DATA"
   ]
  },
  {
   "cell_type": "code",
   "id": "824759be0da749db",
   "metadata": {
    "ExecuteTime": {
     "end_time": "2025-04-05T17:47:18.607957Z",
     "start_time": "2025-04-05T17:47:18.579400Z"
    }
   },
   "source": [
    "file_path = \"outputs/tomcat_bug_reports.csv\"\n",
    "report_df = pd.read_csv(file_path)"
   ],
   "outputs": [],
   "execution_count": 18
  },
  {
   "cell_type": "code",
   "id": "a0308b3951757d91",
   "metadata": {
    "ExecuteTime": {
     "end_time": "2025-04-05T17:47:19.711232Z",
     "start_time": "2025-04-05T17:47:19.467336Z"
    }
   },
   "source": [
    "report_df.pos_tagged_description = report_df.pos_tagged_description.apply(ast.literal_eval)\n",
    "report_df.pos_tagged_description = report_df.pos_tagged_description.apply(lambda x: x['stemmed'])\n",
    "\n",
    "report_df.pos_tagged_summary = report_df.pos_tagged_summary.apply(ast.literal_eval)\n",
    "report_df.pos_tagged_summary = report_df.pos_tagged_summary.apply(lambda x: x['stemmed'])\n",
    "\n",
    "report_df['combined'] = report_df.apply(lambda row: row['pos_tagged_summary'] + row['pos_tagged_description'] if isinstance(row['pos_tagged_summary'], list) and isinstance(row['pos_tagged_description'], list) else [], axis=1)"
   ],
   "outputs": [],
   "execution_count": 19
  },
  {
   "cell_type": "code",
   "id": "b40de121c8224b57",
   "metadata": {
    "ExecuteTime": {
     "end_time": "2025-04-05T17:47:22.126995Z",
     "start_time": "2025-04-05T17:47:22.118541Z"
    }
   },
   "source": "report_data = report_df[['key', 'combined']].values.tolist()",
   "outputs": [],
   "execution_count": 20
  },
  {
   "metadata": {
    "ExecuteTime": {
     "end_time": "2025-04-05T17:47:23.480667Z",
     "start_time": "2025-04-05T17:47:23.476118Z"
    }
   },
   "cell_type": "code",
   "source": "report_data[0]",
   "id": "47b08bc078fcbb2b",
   "outputs": [
    {
     "data": {
      "text/plain": [
       "[56012, ['bug', 'statement', 'gener', 'use', 'attribut', 'page', 'direct']]"
      ]
     },
     "execution_count": 21,
     "metadata": {},
     "output_type": "execute_result"
    }
   ],
   "execution_count": 21
  },
  {
   "cell_type": "code",
   "id": "14bc28e2d90c1b10",
   "metadata": {
    "ExecuteTime": {
     "end_time": "2025-04-05T17:47:25.448493Z",
     "start_time": "2025-04-05T17:47:25.441240Z"
    }
   },
   "source": [
    "def compute_lnc(query):\n",
    "    tf_idf = defaultdict(float)\n",
    "\n",
    "    term_freq = defaultdict(int)\n",
    "    for term in query[1]:\n",
    "        term_freq[term] += 1\n",
    "\n",
    "    for term, freq in term_freq.items():\n",
    "        tf = 1 + math.log10(freq)\n",
    "        tf_idf[term] = tf * 1\n",
    "\n",
    "    norm = math.sqrt(sum(weight ** 2 for weight in tf_idf.values()))\n",
    "    if norm > 0:\n",
    "        for term in tf_idf:\n",
    "            tf_idf[term] /= norm\n",
    "\n",
    "    return tf_idf\n"
   ],
   "outputs": [],
   "execution_count": 22
  },
  {
   "metadata": {
    "ExecuteTime": {
     "end_time": "2025-04-05T17:47:26.999064Z",
     "start_time": "2025-04-05T17:47:26.986125Z"
    }
   },
   "cell_type": "code",
   "source": "len(coefficient_size)",
   "id": "e3989ac237f92bc0",
   "outputs": [
    {
     "data": {
      "text/plain": [
       "1794"
      ]
     },
     "execution_count": 23,
     "metadata": {},
     "output_type": "execute_result"
    }
   ],
   "execution_count": 23
  },
  {
   "cell_type": "markdown",
   "id": "4300300ecb1d88bc",
   "metadata": {},
   "source": "## CALCULATE rVSM"
  },
  {
   "cell_type": "code",
   "id": "b15c7f93376f757e",
   "metadata": {
    "ExecuteTime": {
     "end_time": "2025-04-05T17:48:01.477515Z",
     "start_time": "2025-04-05T17:48:01.472883Z"
    }
   },
   "source": [
    "def calculate_score(query, documents, inverted_index):\n",
    "    query_vec = compute_lnc(query)\n",
    "    doc_vecs = compute_ltc(documents, inverted_index)\n",
    "\n",
    "    scores = {}\n",
    "\n",
    "    for key, doc_vec in doc_vecs.items():\n",
    "        dot_product = 0.0\n",
    "        for term in query_vec:\n",
    "            dot_product += query_vec[term] * doc_vec.get(term, 0.0)\n",
    "\n",
    "        dot_product *= coefficient_size[key]\n",
    "\n",
    "        scores[key] = dot_product\n",
    "\n",
    "    return scores"
   ],
   "outputs": [],
   "execution_count": 27
  },
  {
   "metadata": {},
   "cell_type": "markdown",
   "source": "",
   "id": "8c4b799bf80fde1a"
  },
  {
   "metadata": {},
   "cell_type": "markdown",
   "source": "## GET PREVIOUS BUG REPORT",
   "id": "79a11c4267d84ccd"
  },
  {
   "metadata": {
    "ExecuteTime": {
     "end_time": "2025-04-05T17:59:35.490920Z",
     "start_time": "2025-04-05T17:59:35.483698Z"
    }
   },
   "cell_type": "code",
   "source": [
    "report_df['report_time'] = pd.to_datetime(report_df['report_time'])\n",
    "df_sorted_by_key = report_df.sort_values(by='key')\n",
    "df_filtered_time = df_sorted_by_key[['key', 'combined', 'report_time', 'fixed_files']]"
   ],
   "id": "4e739ed2c01c6372",
   "outputs": [],
   "execution_count": 42
  },
  {
   "metadata": {
    "ExecuteTime": {
     "end_time": "2025-04-05T17:59:36.215384Z",
     "start_time": "2025-04-05T17:59:36.208994Z"
    }
   },
   "cell_type": "code",
   "source": "df_filtered_time.head(5)",
   "id": "3b092adc192f0afe",
   "outputs": [
    {
     "data": {
      "text/plain": [
       "       key                                           combined  \\\n",
       "545  10526  [bug, authent, cach, princip, user, authent, p...   \n",
       "544  10972  [bug, realm, classnam, produc, nullpointerexce...   \n",
       "955  11117  [bug, coyot, connector, deal, put, use, chunk,...   \n",
       "543  13731  [bug, request, respons, session, variabl, prov...   \n",
       "526  15688  [bug, name, import, hi, jasper, gener, compil,...   \n",
       "\n",
       "            report_time                                        fixed_files  \n",
       "545 2002-07-06 13:11:40  java\\org\\apache\\catalina\\authenticator\\Authent...  \n",
       "544 2002-07-19 02:30:07  java\\org\\apache\\catalina\\startup\\Catalina.java...  \n",
       "955 2002-07-24 07:44:57  java\\org\\apache\\coyote\\http11\\filters\\ChunkedI...  \n",
       "543 2002-10-17 13:23:42   java\\org\\apache\\jasper\\compiler\\Generator.java .  \n",
       "526 2002-12-27 22:30:47  java\\org\\apache\\jasper\\compiler\\Generator.java...  "
      ],
      "text/html": [
       "<div>\n",
       "<style scoped>\n",
       "    .dataframe tbody tr th:only-of-type {\n",
       "        vertical-align: middle;\n",
       "    }\n",
       "\n",
       "    .dataframe tbody tr th {\n",
       "        vertical-align: top;\n",
       "    }\n",
       "\n",
       "    .dataframe thead th {\n",
       "        text-align: right;\n",
       "    }\n",
       "</style>\n",
       "<table border=\"1\" class=\"dataframe\">\n",
       "  <thead>\n",
       "    <tr style=\"text-align: right;\">\n",
       "      <th></th>\n",
       "      <th>key</th>\n",
       "      <th>combined</th>\n",
       "      <th>report_time</th>\n",
       "      <th>fixed_files</th>\n",
       "    </tr>\n",
       "  </thead>\n",
       "  <tbody>\n",
       "    <tr>\n",
       "      <th>545</th>\n",
       "      <td>10526</td>\n",
       "      <td>[bug, authent, cach, princip, user, authent, p...</td>\n",
       "      <td>2002-07-06 13:11:40</td>\n",
       "      <td>java\\org\\apache\\catalina\\authenticator\\Authent...</td>\n",
       "    </tr>\n",
       "    <tr>\n",
       "      <th>544</th>\n",
       "      <td>10972</td>\n",
       "      <td>[bug, realm, classnam, produc, nullpointerexce...</td>\n",
       "      <td>2002-07-19 02:30:07</td>\n",
       "      <td>java\\org\\apache\\catalina\\startup\\Catalina.java...</td>\n",
       "    </tr>\n",
       "    <tr>\n",
       "      <th>955</th>\n",
       "      <td>11117</td>\n",
       "      <td>[bug, coyot, connector, deal, put, use, chunk,...</td>\n",
       "      <td>2002-07-24 07:44:57</td>\n",
       "      <td>java\\org\\apache\\coyote\\http11\\filters\\ChunkedI...</td>\n",
       "    </tr>\n",
       "    <tr>\n",
       "      <th>543</th>\n",
       "      <td>13731</td>\n",
       "      <td>[bug, request, respons, session, variabl, prov...</td>\n",
       "      <td>2002-10-17 13:23:42</td>\n",
       "      <td>java\\org\\apache\\jasper\\compiler\\Generator.java .</td>\n",
       "    </tr>\n",
       "    <tr>\n",
       "      <th>526</th>\n",
       "      <td>15688</td>\n",
       "      <td>[bug, name, import, hi, jasper, gener, compil,...</td>\n",
       "      <td>2002-12-27 22:30:47</td>\n",
       "      <td>java\\org\\apache\\jasper\\compiler\\Generator.java...</td>\n",
       "    </tr>\n",
       "  </tbody>\n",
       "</table>\n",
       "</div>"
      ]
     },
     "execution_count": 43,
     "metadata": {},
     "output_type": "execute_result"
    }
   ],
   "execution_count": 43
  },
  {
   "metadata": {
    "ExecuteTime": {
     "end_time": "2025-04-05T17:50:10.766319Z",
     "start_time": "2025-04-05T17:50:10.760746Z"
    }
   },
   "cell_type": "code",
   "source": "previous_reports_data = df_filtered_time.values.tolist()",
   "id": "42d3ef107af25386",
   "outputs": [],
   "execution_count": 31
  },
  {
   "metadata": {
    "ExecuteTime": {
     "end_time": "2025-04-05T17:51:23.561508Z",
     "start_time": "2025-04-05T17:51:23.556446Z"
    }
   },
   "cell_type": "code",
   "source": [
    "def build_inverted_index_for_report(documents):\n",
    "    inverted_index = defaultdict(set)\n",
    "    for key, contents, files in documents:\n",
    "        for content in contents:\n",
    "            inverted_index[content].add(key)\n",
    "    return inverted_index"
   ],
   "id": "c4d92ec19028be9f",
   "outputs": [],
   "execution_count": 33
  },
  {
   "metadata": {
    "ExecuteTime": {
     "end_time": "2025-04-05T17:51:39.195476Z",
     "start_time": "2025-04-05T17:51:39.178470Z"
    }
   },
   "cell_type": "code",
   "source": "inverted_index_previous_report_data = build_inverted_index_for_report(previous_reports_data)",
   "id": "5cf5bf3483fb97cb",
   "outputs": [],
   "execution_count": 34
  },
  {
   "metadata": {},
   "cell_type": "code",
   "outputs": [],
   "execution_count": null,
   "source": [
    "def get_previous_report_data(current_report):\n",
    "    previous_report_data = inverted_index_previous_report_data"
   ],
   "id": "d1fda2c35f2f646d"
  }
 ],
 "metadata": {
  "kernelspec": {
   "display_name": "Python 3 (ipykernel)",
   "language": "python",
   "name": "python3"
  },
  "language_info": {
   "codemirror_mode": {
    "name": "ipython",
    "version": 3
   },
   "file_extension": ".py",
   "mimetype": "text/x-python",
   "name": "python",
   "nbconvert_exporter": "python",
   "pygments_lexer": "ipython3",
   "version": "3.12.7"
  }
 },
 "nbformat": 4,
 "nbformat_minor": 5
}
