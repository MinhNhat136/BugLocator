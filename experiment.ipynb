{
 "cells": [
  {
   "metadata": {},
   "cell_type": "markdown",
   "source": "## PREPROCESSING DATA",
   "id": "2d78a8b75eaea1f5"
  },
  {
   "cell_type": "code",
   "id": "initial_id",
   "metadata": {
    "ExecuteTime": {
     "end_time": "2025-04-04T16:43:26.984293Z",
     "start_time": "2025-04-04T16:43:26.547188Z"
    }
   },
   "source": [
    "from preprocessing import Parser, ReportPreprocessor, SrcPreprocessor\n",
    "from datasets import DATASET\n",
    "\n",
    "from collections import defaultdict, OrderedDict"
   ],
   "outputs": [],
   "execution_count": 1
  },
  {
   "cell_type": "code",
   "id": "340c1372-80a5-4286-b398-6300e04e7e6d",
   "metadata": {
    "ExecuteTime": {
     "end_time": "2025-04-04T16:43:27.376266Z",
     "start_time": "2025-04-04T16:43:27.085143Z"
    }
   },
   "source": [
    "import nltk\n",
    "nltk.download('punkt_tab')\n",
    "nltk.download('averaged_perceptron_tagger_eng')"
   ],
   "outputs": [
    {
     "name": "stderr",
     "output_type": "stream",
     "text": [
      "[nltk_data] Downloading package punkt_tab to\n",
      "[nltk_data]     C:\\Users\\nhatm\\AppData\\Roaming\\nltk_data...\n",
      "[nltk_data]   Package punkt_tab is already up-to-date!\n",
      "[nltk_data] Downloading package averaged_perceptron_tagger_eng to\n",
      "[nltk_data]     C:\\Users\\nhatm\\AppData\\Roaming\\nltk_data...\n",
      "[nltk_data]   Package averaged_perceptron_tagger_eng is already up-to-\n",
      "[nltk_data]       date!\n"
     ]
    },
    {
     "data": {
      "text/plain": [
       "True"
      ]
     },
     "execution_count": 2,
     "metadata": {},
     "output_type": "execute_result"
    }
   ],
   "execution_count": 2
  },
  {
   "cell_type": "code",
   "id": "017deb6b-c635-4cf6-a8b3-bbc1c77feb6e",
   "metadata": {
    "ExecuteTime": {
     "end_time": "2025-04-04T16:43:43.788431Z",
     "start_time": "2025-04-04T16:43:28.665259Z"
    }
   },
   "source": [
    "parser = Parser(DATASET)\n",
    "bug_reports = parser.report_parser()\n",
    "src_files = parser.src_parser()"
   ],
   "outputs": [],
   "execution_count": 3
  },
  {
   "cell_type": "code",
   "id": "fc558011-058c-4662-8f18-f1895bfe0390",
   "metadata": {
    "ExecuteTime": {
     "end_time": "2025-04-04T16:44:28.548174Z",
     "start_time": "2025-04-04T16:43:43.791682Z"
    }
   },
   "source": [
    "src_processor = SrcPreprocessor(src_files, parser.name).preprocess()\n",
    "report_processor = ReportPreprocessor(bug_reports, parser.name).preprocess()"
   ],
   "outputs": [],
   "execution_count": 4
  },
  {
   "metadata": {},
   "cell_type": "markdown",
   "source": "## INDEXING SOURCE CODE FILES\n",
   "id": "fdcd0c9ad3294b33"
  },
  {
   "metadata": {
    "ExecuteTime": {
     "end_time": "2025-04-04T16:56:10.538757Z",
     "start_time": "2025-04-04T16:56:10.364561Z"
    }
   },
   "cell_type": "code",
   "source": "import pandas as pd",
   "id": "ff7344416bf756c0",
   "outputs": [],
   "execution_count": 6
  },
  {
   "metadata": {
    "ExecuteTime": {
     "end_time": "2025-04-04T16:56:11.475965Z",
     "start_time": "2025-04-04T16:56:11.275556Z"
    }
   },
   "cell_type": "code",
   "source": [
    "file_path = \"outputs/tomcat_source_code_data.csv\"\n",
    "src_df = pd.read_csv(file_path)"
   ],
   "id": "be114cc0a930d52d",
   "outputs": [],
   "execution_count": 7
  },
  {
   "metadata": {
    "ExecuteTime": {
     "end_time": "2025-04-04T16:56:12.204353Z",
     "start_time": "2025-04-04T16:56:12.201353Z"
    }
   },
   "cell_type": "code",
   "source": [
    "def prepare_data(key_string, value_string):\n",
    "    data = {}\n",
    "    for index, row in src_df.iterrows():\n",
    "        all_content = eval(row[value_string])\n",
    "        data[row[key_string]] = all_content['stemmed']\n",
    "    return data"
   ],
   "id": "da3f8e11aec2d7c0",
   "outputs": [],
   "execution_count": 8
  },
  {
   "metadata": {
    "ExecuteTime": {
     "end_time": "2025-04-04T16:56:14.456840Z",
     "start_time": "2025-04-04T16:56:14.453639Z"
    }
   },
   "cell_type": "code",
   "source": [
    "def build_inverted_index(documents):\n",
    "    inverted_index = defaultdict(list)\n",
    "    for key, contents in documents.items():\n",
    "        for content in contents:\n",
    "            inverted_index[content].append(key)\n",
    "    return inverted_index"
   ],
   "id": "289d819f926efbd7",
   "outputs": [],
   "execution_count": 9
  },
  {
   "metadata": {
    "ExecuteTime": {
     "end_time": "2025-04-04T17:54:43.564384Z",
     "start_time": "2025-04-04T17:54:41.671926Z"
    }
   },
   "cell_type": "code",
   "source": [
    "data_src_codes_content = prepare_data('key','all_content')\n",
    "data_src_codes_size = src_df[['key', 'total_lines']].values.tolist()\n",
    "inverted_index_source_codes = build_inverted_index(data_src_codes_content)"
   ],
   "id": "6a6aa6aeba30bbf8",
   "outputs": [],
   "execution_count": 18
  },
  {
   "metadata": {},
   "cell_type": "markdown",
   "source": "## BUILD VSM",
   "id": "29a078b9603f82dc"
  },
  {
   "metadata": {
    "ExecuteTime": {
     "end_time": "2025-04-04T18:01:37.319885Z",
     "start_time": "2025-04-04T18:01:37.316895Z"
    }
   },
   "cell_type": "code",
   "source": "import math",
   "id": "ae7e9d6e0c7047d4",
   "outputs": [],
   "execution_count": 21
  },
  {
   "metadata": {
    "ExecuteTime": {
     "end_time": "2025-04-04T18:01:38.068095Z",
     "start_time": "2025-04-04T18:01:38.064094Z"
    }
   },
   "cell_type": "code",
   "source": [
    "def compute_document_tf_idf(documents, inverted_index):\n",
    "    tf_idf = defaultdict(lambda: defaultdict(float))\n",
    "    total_documents = len(documents)\n",
    "\n",
    "    for key, contents in documents.items():\n",
    "        content_frequency = defaultdict(int)\n",
    "        for content in contents:\n",
    "            content_frequency[content] += 1\n",
    "\n",
    "        for content, count in content_frequency.items():\n",
    "            tf = 1 + math.log(count, 10) if count > 0 else 0\n",
    "            df = len(inverted_index[content]) if content in inverted_index else 0\n",
    "            idf = math.log(total_documents / (1 + df), 10)\n",
    "\n",
    "            tf_idf[key][content] = tf * idf\n",
    "\n",
    "    for doc_id in tf_idf:\n",
    "        norm = math.sqrt(sum(weight ** 2 for weight in tf_idf[doc_id].values()))\n",
    "        if norm > 0:\n",
    "            for content in tf_idf[doc_id]:\n",
    "                tf_idf[doc_id][content] /= norm\n",
    "\n",
    "    return tf_idf"
   ],
   "id": "322f41dfda205c5a",
   "outputs": [],
   "execution_count": 22
  },
  {
   "metadata": {
    "ExecuteTime": {
     "end_time": "2025-04-04T18:01:40.366895Z",
     "start_time": "2025-04-04T18:01:40.215188Z"
    }
   },
   "cell_type": "code",
   "source": "vsm = compute_document_tf_idf(data_src_codes_content, inverted_index_source_codes)",
   "id": "caefb66e5980cba1",
   "outputs": [],
   "execution_count": 23
  },
  {
   "metadata": {
    "ExecuteTime": {
     "end_time": "2025-04-04T18:01:41.834254Z",
     "start_time": "2025-04-04T18:01:41.831254Z"
    }
   },
   "cell_type": "code",
   "source": "vsm_iter = list(vsm.items())",
   "id": "bdcb7707b5f3419e",
   "outputs": [],
   "execution_count": 24
  },
  {
   "metadata": {},
   "cell_type": "markdown",
   "source": "## CALCULATE COEFFICIENT FILE SIZE",
   "id": "6bd66b7a09944bd2"
  },
  {
   "metadata": {
    "ExecuteTime": {
     "end_time": "2025-04-04T18:10:54.329291Z",
     "start_time": "2025-04-04T18:10:54.325996Z"
    }
   },
   "cell_type": "code",
   "source": [
    "max_size = 0\n",
    "min_size = math.inf\n",
    "for data_size in data_src_codes_size:\n",
    "    if data_size[1] > max_size:\n",
    "        max_size = data_size[1]\n",
    "    if data_size[1] < min_size:\n",
    "        min_size = data_size[1]"
   ],
   "id": "33c4ab2316be5028",
   "outputs": [],
   "execution_count": 40
  },
  {
   "metadata": {
    "ExecuteTime": {
     "end_time": "2025-04-04T18:10:59.739825Z",
     "start_time": "2025-04-04T18:10:59.736533Z"
    }
   },
   "cell_type": "code",
   "source": [
    "def calculate_coefficient_size(size):\n",
    "    value_standardization = (size - min_size) / (max_size - min_size)\n",
    "    return 1/(1 + math.exp(-value_standardization))"
   ],
   "id": "a3a53ec93e31827",
   "outputs": [],
   "execution_count": 42
  },
  {
   "metadata": {
    "ExecuteTime": {
     "end_time": "2025-04-04T18:11:56.017838Z",
     "start_time": "2025-04-04T18:11:56.013611Z"
    }
   },
   "cell_type": "code",
   "source": [
    "coefficient_size = defaultdict(float)\n",
    "for data_size in data_src_codes_size:\n",
    "    coefficient_size[data_size[0]] = calculate_coefficient_size(data_size[1])"
   ],
   "id": "a6ed40ec4a52899a",
   "outputs": [],
   "execution_count": 47
  },
  {
   "metadata": {},
   "cell_type": "markdown",
   "source": "## HANDLE REPORT DATA",
   "id": "27ec623e3368f0d"
  },
  {
   "metadata": {},
   "cell_type": "code",
   "outputs": [],
   "execution_count": null,
   "source": [
    "def prepare_data(key_string, value_string):\n",
    "    data = {}\n",
    "    for index, row in src_df.iterrows():\n",
    "        all_content = eval(row[value_string])\n",
    "        data[row[key_string]] = all_content['stemmed']\n",
    "    return data"
   ],
   "id": "587959b390120889"
  },
  {
   "metadata": {},
   "cell_type": "markdown",
   "source": "## RANKING RESULTS",
   "id": "4300300ecb1d88bc"
  }
 ],
 "metadata": {
  "kernelspec": {
   "display_name": "Python 3 (ipykernel)",
   "language": "python",
   "name": "python3"
  },
  "language_info": {
   "codemirror_mode": {
    "name": "ipython",
    "version": 3
   },
   "file_extension": ".py",
   "mimetype": "text/x-python",
   "name": "python",
   "nbconvert_exporter": "python",
   "pygments_lexer": "ipython3",
   "version": "3.12.7"
  }
 },
 "nbformat": 4,
 "nbformat_minor": 5
}
